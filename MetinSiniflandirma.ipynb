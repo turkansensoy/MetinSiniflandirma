{
 "cells": [
  {
   "cell_type": "markdown",
   "id": "07d85d18",
   "metadata": {},
   "source": [
    "## TF-IDF ve NaiveBayes ile Metin Sınıflandırma"
   ]
  },
  {
   "cell_type": "markdown",
   "id": "194e49fc",
   "metadata": {},
   "source": [
    "Veri seti Kaggle adresinden alınmıştır.haber metinlerinin hangi kategoriye ait oldugunu bulma"
   ]
  },
  {
   "cell_type": "code",
   "execution_count": 1,
   "id": "44b1fee3",
   "metadata": {},
   "outputs": [
    {
     "data": {
      "text/html": [
       "<div>\n",
       "<style scoped>\n",
       "    .dataframe tbody tr th:only-of-type {\n",
       "        vertical-align: middle;\n",
       "    }\n",
       "\n",
       "    .dataframe tbody tr th {\n",
       "        vertical-align: top;\n",
       "    }\n",
       "\n",
       "    .dataframe thead th {\n",
       "        text-align: right;\n",
       "    }\n",
       "</style>\n",
       "<table border=\"1\" class=\"dataframe\">\n",
       "  <thead>\n",
       "    <tr style=\"text-align: right;\">\n",
       "      <th></th>\n",
       "      <th>category</th>\n",
       "      <th>text</th>\n",
       "    </tr>\n",
       "  </thead>\n",
       "  <tbody>\n",
       "    <tr>\n",
       "      <th>0</th>\n",
       "      <td>siyaset</td>\n",
       "      <td>3 milyon ile ön seçim vaadi mhp nin 10 olağan...</td>\n",
       "    </tr>\n",
       "    <tr>\n",
       "      <th>1</th>\n",
       "      <td>siyaset</td>\n",
       "      <td>mesut_yılmaz yüce_divan da ceza alabilirdi pr...</td>\n",
       "    </tr>\n",
       "    <tr>\n",
       "      <th>2</th>\n",
       "      <td>siyaset</td>\n",
       "      <td>disko lar kaldırılıyor başbakan_yardımcısı ar...</td>\n",
       "    </tr>\n",
       "    <tr>\n",
       "      <th>3</th>\n",
       "      <td>siyaset</td>\n",
       "      <td>sarıgül anayasa_mahkemesi ne gidiyor mustafa_...</td>\n",
       "    </tr>\n",
       "    <tr>\n",
       "      <th>4</th>\n",
       "      <td>siyaset</td>\n",
       "      <td>erdoğan idamın bir haklılık sebebi var demek ...</td>\n",
       "    </tr>\n",
       "    <tr>\n",
       "      <th>...</th>\n",
       "      <td>...</td>\n",
       "      <td>...</td>\n",
       "    </tr>\n",
       "    <tr>\n",
       "      <th>4895</th>\n",
       "      <td>teknoloji</td>\n",
       "      <td>iphone lara geri dönüyor ios 6 sürümüyle tele...</td>\n",
       "    </tr>\n",
       "    <tr>\n",
       "      <th>4896</th>\n",
       "      <td>teknoloji</td>\n",
       "      <td>muslukta devrim sadece elimizi yıkadığımız mu...</td>\n",
       "    </tr>\n",
       "    <tr>\n",
       "      <th>4897</th>\n",
       "      <td>teknoloji</td>\n",
       "      <td>halka iyi anlatılmalı bilgi_teknolojileri ile...</td>\n",
       "    </tr>\n",
       "    <tr>\n",
       "      <th>4898</th>\n",
       "      <td>teknoloji</td>\n",
       "      <td>çöpe gidiyorlar apple 775 bin uygulamayla app...</td>\n",
       "    </tr>\n",
       "    <tr>\n",
       "      <th>4899</th>\n",
       "      <td>teknoloji</td>\n",
       "      <td>google bu kez edward_gorey dedi ! google bu k...</td>\n",
       "    </tr>\n",
       "  </tbody>\n",
       "</table>\n",
       "<p>4900 rows × 2 columns</p>\n",
       "</div>"
      ],
      "text/plain": [
       "        category                                               text\n",
       "0       siyaset    3 milyon ile ön seçim vaadi mhp nin 10 olağan...\n",
       "1       siyaset    mesut_yılmaz yüce_divan da ceza alabilirdi pr...\n",
       "2       siyaset    disko lar kaldırılıyor başbakan_yardımcısı ar...\n",
       "3       siyaset    sarıgül anayasa_mahkemesi ne gidiyor mustafa_...\n",
       "4       siyaset    erdoğan idamın bir haklılık sebebi var demek ...\n",
       "...          ...                                                ...\n",
       "4895  teknoloji    iphone lara geri dönüyor ios 6 sürümüyle tele...\n",
       "4896  teknoloji    muslukta devrim sadece elimizi yıkadığımız mu...\n",
       "4897  teknoloji    halka iyi anlatılmalı bilgi_teknolojileri ile...\n",
       "4898  teknoloji    çöpe gidiyorlar apple 775 bin uygulamayla app...\n",
       "4899  teknoloji    google bu kez edward_gorey dedi ! google bu k...\n",
       "\n",
       "[4900 rows x 2 columns]"
      ]
     },
     "execution_count": 1,
     "metadata": {},
     "output_type": "execute_result"
    }
   ],
   "source": [
    "import pandas as pd\n",
    "df = pd.read_csv('C:/Users/türkan şensoy/Desktop/MetinSiniflandirma/7allV03.csv')\n",
    "df"
   ]
  },
  {
   "cell_type": "code",
   "execution_count": 2,
   "id": "186f139e",
   "metadata": {},
   "outputs": [
    {
     "data": {
      "text/html": [
       "<div>\n",
       "<style scoped>\n",
       "    .dataframe tbody tr th:only-of-type {\n",
       "        vertical-align: middle;\n",
       "    }\n",
       "\n",
       "    .dataframe tbody tr th {\n",
       "        vertical-align: top;\n",
       "    }\n",
       "\n",
       "    .dataframe thead th {\n",
       "        text-align: right;\n",
       "    }\n",
       "</style>\n",
       "<table border=\"1\" class=\"dataframe\">\n",
       "  <thead>\n",
       "    <tr style=\"text-align: right;\">\n",
       "      <th></th>\n",
       "      <th>category</th>\n",
       "      <th>text</th>\n",
       "    </tr>\n",
       "  </thead>\n",
       "  <tbody>\n",
       "    <tr>\n",
       "      <th>0</th>\n",
       "      <td>siyaset</td>\n",
       "      <td>3 milyon ile ön seçim vaadi mhp nin 10 olağan...</td>\n",
       "    </tr>\n",
       "    <tr>\n",
       "      <th>1</th>\n",
       "      <td>siyaset</td>\n",
       "      <td>mesut_yılmaz yüce_divan da ceza alabilirdi pr...</td>\n",
       "    </tr>\n",
       "    <tr>\n",
       "      <th>2</th>\n",
       "      <td>siyaset</td>\n",
       "      <td>disko lar kaldırılıyor başbakan_yardımcısı ar...</td>\n",
       "    </tr>\n",
       "    <tr>\n",
       "      <th>3</th>\n",
       "      <td>siyaset</td>\n",
       "      <td>sarıgül anayasa_mahkemesi ne gidiyor mustafa_...</td>\n",
       "    </tr>\n",
       "    <tr>\n",
       "      <th>4</th>\n",
       "      <td>siyaset</td>\n",
       "      <td>erdoğan idamın bir haklılık sebebi var demek ...</td>\n",
       "    </tr>\n",
       "    <tr>\n",
       "      <th>...</th>\n",
       "      <td>...</td>\n",
       "      <td>...</td>\n",
       "    </tr>\n",
       "    <tr>\n",
       "      <th>4895</th>\n",
       "      <td>teknoloji</td>\n",
       "      <td>iphone lara geri dönüyor ios 6 sürümüyle tele...</td>\n",
       "    </tr>\n",
       "    <tr>\n",
       "      <th>4896</th>\n",
       "      <td>teknoloji</td>\n",
       "      <td>muslukta devrim sadece elimizi yıkadığımız mu...</td>\n",
       "    </tr>\n",
       "    <tr>\n",
       "      <th>4897</th>\n",
       "      <td>teknoloji</td>\n",
       "      <td>halka iyi anlatılmalı bilgi_teknolojileri ile...</td>\n",
       "    </tr>\n",
       "    <tr>\n",
       "      <th>4898</th>\n",
       "      <td>teknoloji</td>\n",
       "      <td>çöpe gidiyorlar apple 775 bin uygulamayla app...</td>\n",
       "    </tr>\n",
       "    <tr>\n",
       "      <th>4899</th>\n",
       "      <td>teknoloji</td>\n",
       "      <td>google bu kez edward_gorey dedi ! google bu k...</td>\n",
       "    </tr>\n",
       "  </tbody>\n",
       "</table>\n",
       "<p>4900 rows × 2 columns</p>\n",
       "</div>"
      ],
      "text/plain": [
       "        category                                               text\n",
       "0       siyaset    3 milyon ile ön seçim vaadi mhp nin 10 olağan...\n",
       "1       siyaset    mesut_yılmaz yüce_divan da ceza alabilirdi pr...\n",
       "2       siyaset    disko lar kaldırılıyor başbakan_yardımcısı ar...\n",
       "3       siyaset    sarıgül anayasa_mahkemesi ne gidiyor mustafa_...\n",
       "4       siyaset    erdoğan idamın bir haklılık sebebi var demek ...\n",
       "...          ...                                                ...\n",
       "4895  teknoloji    iphone lara geri dönüyor ios 6 sürümüyle tele...\n",
       "4896  teknoloji    muslukta devrim sadece elimizi yıkadığımız mu...\n",
       "4897  teknoloji    halka iyi anlatılmalı bilgi_teknolojileri ile...\n",
       "4898  teknoloji    çöpe gidiyorlar apple 775 bin uygulamayla app...\n",
       "4899  teknoloji    google bu kez edward_gorey dedi ! google bu k...\n",
       "\n",
       "[4900 rows x 2 columns]"
      ]
     },
     "execution_count": 2,
     "metadata": {},
     "output_type": "execute_result"
    }
   ],
   "source": [
    "#from io import StringIO\n",
    "col = ['category', 'text'] #sütun çekme\n",
    "df = df[col] \n",
    "# Nan deger içermeyen sütunları görmek için\n",
    "df = df[pd.notnull(df['text'])]\n",
    "df"
   ]
  },
  {
   "cell_type": "code",
   "execution_count": 4,
   "id": "7e00a504",
   "metadata": {},
   "outputs": [
    {
     "data": {
      "text/plain": [
       "0       0\n",
       "1       0\n",
       "2       0\n",
       "3       0\n",
       "4       0\n",
       "       ..\n",
       "4895    6\n",
       "4896    6\n",
       "4897    6\n",
       "4898    6\n",
       "4899    6\n",
       "Name: category_id, Length: 4900, dtype: int64"
      ]
     },
     "execution_count": 4,
     "metadata": {},
     "output_type": "execute_result"
    }
   ],
   "source": [
    " #df.columns = ['category', 'body']\n",
    "df['category_id'] = df['category'].factorize()[0] # category'deki aynı metine sahip olanlara deger verme\n",
    "df['category_id']"
   ]
  },
  {
   "cell_type": "code",
   "execution_count": 5,
   "id": "d6c71fbc",
   "metadata": {},
   "outputs": [
    {
     "data": {
      "text/html": [
       "<div>\n",
       "<style scoped>\n",
       "    .dataframe tbody tr th:only-of-type {\n",
       "        vertical-align: middle;\n",
       "    }\n",
       "\n",
       "    .dataframe tbody tr th {\n",
       "        vertical-align: top;\n",
       "    }\n",
       "\n",
       "    .dataframe thead th {\n",
       "        text-align: right;\n",
       "    }\n",
       "</style>\n",
       "<table border=\"1\" class=\"dataframe\">\n",
       "  <thead>\n",
       "    <tr style=\"text-align: right;\">\n",
       "      <th></th>\n",
       "      <th>category</th>\n",
       "      <th>category_id</th>\n",
       "    </tr>\n",
       "  </thead>\n",
       "  <tbody>\n",
       "    <tr>\n",
       "      <th>0</th>\n",
       "      <td>siyaset</td>\n",
       "      <td>0</td>\n",
       "    </tr>\n",
       "    <tr>\n",
       "      <th>700</th>\n",
       "      <td>dunya</td>\n",
       "      <td>1</td>\n",
       "    </tr>\n",
       "    <tr>\n",
       "      <th>1400</th>\n",
       "      <td>ekonomi</td>\n",
       "      <td>2</td>\n",
       "    </tr>\n",
       "    <tr>\n",
       "      <th>2100</th>\n",
       "      <td>kultur</td>\n",
       "      <td>3</td>\n",
       "    </tr>\n",
       "    <tr>\n",
       "      <th>2800</th>\n",
       "      <td>saglik</td>\n",
       "      <td>4</td>\n",
       "    </tr>\n",
       "    <tr>\n",
       "      <th>3500</th>\n",
       "      <td>spor</td>\n",
       "      <td>5</td>\n",
       "    </tr>\n",
       "    <tr>\n",
       "      <th>4200</th>\n",
       "      <td>teknoloji</td>\n",
       "      <td>6</td>\n",
       "    </tr>\n",
       "  </tbody>\n",
       "</table>\n",
       "</div>"
      ],
      "text/plain": [
       "        category  category_id\n",
       "0       siyaset             0\n",
       "700       dunya             1\n",
       "1400    ekonomi             2\n",
       "2100     kultur             3\n",
       "2800     saglik             4\n",
       "3500       spor             5\n",
       "4200  teknoloji             6"
      ]
     },
     "execution_count": 5,
     "metadata": {},
     "output_type": "execute_result"
    }
   ],
   "source": [
    "category_id_df = df[['category', 'category_id']].drop_duplicates().sort_values('category_id')\n",
    "category_id_df"
   ]
  },
  {
   "cell_type": "code",
   "execution_count": 6,
   "id": "4dde0a50",
   "metadata": {},
   "outputs": [
    {
     "data": {
      "text/plain": [
       "{'siyaset ': 0,\n",
       " 'dunya ': 1,\n",
       " 'ekonomi ': 2,\n",
       " 'kultur ': 3,\n",
       " 'saglik ': 4,\n",
       " 'spor ': 5,\n",
       " 'teknoloji ': 6}"
      ]
     },
     "execution_count": 6,
     "metadata": {},
     "output_type": "execute_result"
    }
   ],
   "source": [
    "category_to_id = dict(category_id_df.values) \n",
    "category_to_id"
   ]
  },
  {
   "cell_type": "code",
   "execution_count": 7,
   "id": "015be6e5",
   "metadata": {},
   "outputs": [
    {
     "data": {
      "image/png": "[encoded data removed]",
      "text/plain": [
       "<Figure size 864x576 with 1 Axes>"
      ]
     },
     "metadata": {
      "needs_background": "light"
     },
     "output_type": "display_data"
    }
   ],
   "source": [
    "import matplotlib.pyplot as plt\n",
    "fig = plt.figure(figsize=(12,8)) #boyutunu değiştirmek için\n",
    "df.groupby('category').text.count().plot.bar(ylim=0)  #her kategoride kac tane metin olduğunu gösteriyor\n",
    "plt.show()"
   ]
  },
  {
   "cell_type": "code",
   "execution_count": 8,
   "id": "86004396",
   "metadata": {},
   "outputs": [
    {
     "name": "stdout",
     "output_type": "stream",
     "text": [
      "['a', 'acaba', 'altı', 'altmış', 'ama', 'ancak', 'arada', 'artık', 'asla', 'aslında', 'aslında', 'ayrıca', 'az', 'bana', 'bazen', 'bazı', 'bazıları', 'belki', 'ben', 'benden', 'beni', 'benim', 'beri', 'beş', 'bile', 'bilhassa', 'bin', 'bir', 'biraz', 'birçoğu', 'birçok', 'biri', 'birisi', 'birkaç', 'birşey', 'biz', 'bizden', 'bize', 'bizi', 'bizim', 'böyle', 'böylece', 'bu', 'buna', 'bunda', 'bundan', 'bunlar', 'bunları', 'bunların', 'bunu', 'bunun', 'burada', 'bütün', 'çoğu', 'çoğunu', 'çok', 'çünkü', 'da', 'daha', 'dahi', 'dan', 'de', 'defa', 'değil', 'diğer', 'diğeri', 'diğerleri', 'diye', 'doksan', 'dokuz', 'dolayı', 'dolayısıyla', 'dört', 'e', 'edecek', 'eden', 'ederek', 'edilecek', 'ediliyor', 'edilmesi', 'ediyor', 'eğer', 'elbette', 'elli', 'en', 'etmesi', 'etti', 'ettiği', 'ettiğini', 'fakat', 'falan', 'filan', 'gene', 'gereği', 'gerek', 'gibi', 'göre', 'hala', 'halde', 'halen', 'hangi', 'hangisi', 'hani', 'hatta', 'hem', 'henüz', 'hep', 'hepsi', 'her', 'herhangi', 'herkes', 'herkese', 'herkesi', 'herkesin', 'hiç', 'hiçbir', 'hiçbiri', 'i', 'ı', 'için', 'içinde', 'iki', 'ile', 'ilgili', 'ise', 'işte', 'itibaren', 'itibariyle', 'kaç', 'kadar', 'karşın', 'kendi', 'kendilerine', 'kendine', 'kendini', 'kendisi', 'kendisine', 'kendisini', 'kez', 'ki', 'kim', 'kime', 'kimi', 'kimin', 'kimisi', 'kimse', 'kırk', 'madem', 'mi', 'mı', 'milyar', 'milyon', 'mu', 'mü', 'nasıl', 'ne', 'neden', 'nedenle', 'nerde', 'nerede', 'nereye', 'neyse', 'niçin', 'nin', 'nın', 'niye', 'nun', 'nün', 'o', 'öbür', 'olan', 'olarak', 'oldu', 'olduğu', 'olduğunu', 'olduklarını', 'olmadı', 'olmadığı', 'olmak', 'olması', 'olmayan', 'olmaz', 'olsa', 'olsun', 'olup', 'olur', 'olur', 'olursa', 'oluyor', 'on', 'ön', 'ona', 'önce', 'ondan', 'onlar', 'onlara', 'onlardan', 'onları', 'onların', 'onu', 'onun', 'orada', 'öte', 'ötürü', 'otuz', 'öyle', 'oysa', 'pek', 'rağmen', 'sana', 'sanki', 'sanki', 'şayet', 'şekilde', 'sekiz', 'seksen', 'sen', 'senden', 'seni', 'senin', 'şey', 'şeyden', 'şeye', 'şeyi', 'şeyler', 'şimdi', 'siz', 'siz', 'sizden', 'sizden', 'size', 'sizi', 'sizi', 'sizin', 'sizin', 'sonra', 'şöyle', 'şu', 'şuna', 'şunları', 'şunu', 'ta', 'tabii', 'tam', 'tamam', 'tamamen', 'tarafından', 'trilyon', 'tüm', 'tümü', 'u', 'ü', 'üç', 'un', 'ün', 'üzere', 'var', 'vardı', 've', 'veya', 'ya', 'yani', 'yapacak', 'yapılan', 'yapılması', 'yapıyor', 'yapmak', 'yaptı', 'yaptığı', 'yaptığını', 'yaptıkları', 'ye', 'yedi', 'yerine', 'yetmiş', 'yi', 'yı', 'yine', 'yirmi', 'yoksa', 'yu', 'yüz', 'zaten', 'zira', 'zxtest']\n"
     ]
    }
   ],
   "source": [
    "sw = pd.read_csv('C:/Users/türkan şensoy/Desktop/MetinSiniflandirma/turkce-stop-Words.txt',sep=\"\\n\", header=None)\n",
    "print(sw[0].values.tolist())"
   ]
  },
  {
   "cell_type": "code",
   "execution_count": 9,
   "id": "5ac8934b",
   "metadata": {},
   "outputs": [
    {
     "name": "stdout",
     "output_type": "stream",
     "text": [
      "[[0. 0. 0. ... 0. 0. 0.]\n",
      " [0. 0. 0. ... 0. 0. 0.]\n",
      " [0. 0. 0. ... 0. 0. 0.]\n",
      " ...\n",
      " [0. 0. 0. ... 0. 0. 0.]\n",
      " [0. 0. 0. ... 0. 0. 0.]\n",
      " [0. 0. 0. ... 0. 0. 0.]]\n"
     ]
    },
    {
     "data": {
      "text/plain": [
       "(4900, 35155)"
      ]
     },
     "execution_count": 9,
     "metadata": {},
     "output_type": "execute_result"
    }
   ],
   "source": [
    "from sklearn.feature_extraction.text import TfidfVectorizer\n",
    "tfidf = TfidfVectorizer(sublinear_tf=True, min_df=5, norm='l2', encoding='utf-8', ngram_range=(1, 2),stop_words=sw[0].values.tolist())\n",
    "features = tfidf.fit_transform(df.text).toarray()\n",
    "labels = df.category_id\n",
    "#labels\n",
    "print(features)\n",
    "features.shape\n",
    "#tfidf.get_feature_names()"
   ]
  },
  {
   "cell_type": "code",
   "execution_count": 10,
   "id": "e3e41457",
   "metadata": {},
   "outputs": [
    {
     "name": "stdout",
     "output_type": "stream",
     "text": [
      "# 'dunya ':\n",
      "  . En ilişkili unigram ifadeler:\n",
      ". hamas\n",
      ". askeri\n",
      ". gazze\n",
      ". suriye\n",
      ". israil\n",
      "  . En ilişkili bigram ifadeler:\n",
      ". büyüklüğünde deprem\n",
      ". kişi hayatını\n",
      ". kişi yaralandı\n",
      ". kişi öldü\n",
      ". israil in\n",
      "---------------------------\n",
      "# 'ekonomi ':\n",
      "  . En ilişkili unigram ifadeler:\n",
      ". merkez_bankası\n",
      ". yatırım\n",
      ". lira\n",
      ". kredi\n",
      ". yüzde\n",
      "  . En ilişkili bigram ifadeler:\n",
      ". kredi derecelendirme\n",
      ". satış fiyatı\n",
      ". yönetim_kurulu başkanı\n",
      ". yılın aynı\n",
      ". endeksi yüzde\n",
      "---------------------------\n",
      "# 'kultur ':\n",
      "  . En ilişkili unigram ifadeler:\n",
      ". sinema\n",
      ". yönetmen\n",
      ". filmi\n",
      ". sanat\n",
      ". film\n",
      "  . En ilişkili bigram ifadeler:\n",
      ". 20 30\n",
      ". 2012 22\n",
      ". 00 tl\n",
      ". 11 2012\n",
      ". film festivali\n",
      "---------------------------\n",
      "# 'saglik ':\n",
      "  . En ilişkili unigram ifadeler:\n",
      ". ilaç\n",
      ". hastalığı\n",
      ". kalp\n",
      ". tedavi\n",
      ". dr\n",
      "  . En ilişkili bigram ifadeler:\n",
      ". kalp damar\n",
      ". anabilim dalı\n",
      ". dalı öğretim\n",
      ". doç dr\n",
      ". prof dr\n",
      "---------------------------\n",
      "# 'siyaset ':\n",
      "  . En ilişkili unigram ifadeler:\n",
      ". kılıçdaroğlu\n",
      ". başbakan_erdoğan\n",
      ". bdp\n",
      ". ak_parti\n",
      ". chp\n",
      "  . En ilişkili bigram ifadeler:\n",
      ". pkk lı\n",
      ". 28 şubat\n",
      ". başbakan ın\n",
      ". başbakan_erdoğan ın\n",
      ". chp li\n",
      "---------------------------\n",
      "# 'spor ':\n",
      "  . En ilişkili unigram ifadeler:\n",
      ". maçta\n",
      ". galatasaray\n",
      ". maçı\n",
      ". maç\n",
      ". maçında\n",
      "  . En ilişkili bigram ifadeler:\n",
      ". sarı kırmızılı\n",
      ". şampiyonlar_ligi nde\n",
      ". teknik direktörü\n",
      ". galatasaray ın\n",
      ". teknik direktör\n",
      "---------------------------\n",
      "# 'teknoloji ':\n",
      "  . En ilişkili unigram ifadeler:\n",
      ". kullanıcıların\n",
      ". facebook\n",
      ". iphone\n",
      ". google\n",
      ". apple\n",
      "  . En ilişkili bigram ifadeler:\n",
      ". cep telefonu\n",
      ". işletim sistemi\n",
      ". akıllı telefon\n",
      ". google ın\n",
      ". apple ın\n",
      "---------------------------\n"
     ]
    }
   ],
   "source": [
    "#Ki kare kullanarak her kategori ve her gram için en iyi 5 kelimeyi bulalım.\n",
    "from sklearn.feature_selection import chi2\n",
    "import numpy as np\n",
    "N = 5\n",
    "for category, category_id in sorted(category_to_id.items()):\n",
    "  features_chi2 = chi2(features, labels == category_id)\n",
    "  indices = np.argsort(features_chi2[0])\n",
    "  feature_names = np.array(tfidf.get_feature_names())[indices]\n",
    "  unigrams = [v for v in feature_names if len(v.split(' ')) == 1]\n",
    "  bigrams = [v for v in feature_names if len(v.split(' ')) == 2]\n",
    "  print(\"# '{}':\".format(category))\n",
    "  print(\"  . En ilişkili unigram ifadeler:\\n. {}\".format('\\n. '.join(unigrams[-N:])))\n",
    "  print(\"  . En ilişkili bigram ifadeler:\\n. {}\".format('\\n. '.join(bigrams[-N:])))\n",
    "  print(\"---------------------------\")"
   ]
  },
  {
   "cell_type": "code",
   "execution_count": 11,
   "id": "e5481db9",
   "metadata": {},
   "outputs": [
    {
     "data": {
      "text/plain": [
       "array([[0, 0, 0, ..., 0, 0, 0],\n",
       "       [0, 0, 0, ..., 0, 0, 0],\n",
       "       [0, 0, 0, ..., 0, 0, 0],\n",
       "       ...,\n",
       "       [0, 0, 0, ..., 0, 0, 0],\n",
       "       [0, 0, 0, ..., 0, 0, 0],\n",
       "       [0, 0, 0, ..., 0, 0, 0]], dtype=int64)"
      ]
     },
     "execution_count": 11,
     "metadata": {},
     "output_type": "execute_result"
    }
   ],
   "source": [
    "from sklearn.model_selection import train_test_split\n",
    "from sklearn.feature_extraction.text import CountVectorizer\n",
    "from sklearn.feature_extraction.text import TfidfTransformer\n",
    "from sklearn.naive_bayes import MultinomialNB\n",
    "\n",
    "X_train, X_test, y_train, y_test = train_test_split(df['text'], df['category'], random_state = 0)\n",
    "count_vect = CountVectorizer()\n",
    "X_train_counts = count_vect.fit_transform(X_train)\n",
    "a=X_train_counts.toarray()\n",
    "a"
   ]
  },
  {
   "cell_type": "code",
   "execution_count": 12,
   "id": "835b808f",
   "metadata": {},
   "outputs": [
    {
     "data": {
      "text/plain": [
       "array([0, 0, 0, ..., 0, 0, 0], dtype=int64)"
      ]
     },
     "execution_count": 12,
     "metadata": {},
     "output_type": "execute_result"
    }
   ],
   "source": [
    "a[0]"
   ]
  },
  {
   "cell_type": "code",
   "execution_count": 13,
   "id": "1f0c08f2",
   "metadata": {},
   "outputs": [
    {
     "data": {
      "text/plain": [
       "[array(['1990', '2000', 'almadığını', 'anka', 'açıklamada', 'basına',\n",
       "        'başvurmuştu', 'bildirdi', 'bir', 'bize', 'brüksel', 'bulunmadı',\n",
       "        'bunu', 'bölgelerinde', 'böyle', 'dan', 'de', 'dedi', 'den',\n",
       "        'füze', 'gelseydi', 'göre', 'görüşürlerdi', 'henüz', 'her', 'iki',\n",
       "        'ile', 'ilgili', 'irak', 'istek', 'kurulması', 'müttefikler',\n",
       "        'nato', 'nato_genel_sekreteri_anders_fogh_rasmussen', 'nun', 'nın',\n",
       "        'patriot', 'radyosuna', 'rasmussen', 'rusya', 'savaşı', 'sesi',\n",
       "        'sisteminin', 'suriye', 'sınır', 'sırasında', 'talebinde', 'talep',\n",
       "        'türkiye', 'türkiye_nato', 've', 'ya', 'yaptığı', 'ye',\n",
       "        'yerleştirmele', 'yıllarında', 'ülkede'], dtype='<U63')]"
      ]
     },
     "execution_count": 13,
     "metadata": {},
     "output_type": "execute_result"
    }
   ],
   "source": [
    "count_vect.inverse_transform(a[0])"
   ]
  },
  {
   "cell_type": "code",
   "execution_count": 14,
   "id": "c312caf0",
   "metadata": {},
   "outputs": [],
   "source": [
    "tfidf_transformer = TfidfTransformer()\n",
    "X_train_tfidf = tfidf_transformer.fit_transform(X_train_counts)\n",
    "\n",
    "clf = MultinomialNB().fit(X_train_tfidf, y_train)"
   ]
  },
  {
   "cell_type": "code",
   "execution_count": 15,
   "id": "217f7363",
   "metadata": {},
   "outputs": [
    {
     "data": {
      "text/plain": [
       "array(['saglik ', 'dunya ', 'kultur ', ..., 'dunya ', 'siyaset ',\n",
       "       'ekonomi '], dtype='<U10')"
      ]
     },
     "execution_count": 15,
     "metadata": {},
     "output_type": "execute_result"
    }
   ],
   "source": [
    "x_test_tf=count_vect.transform(X_test)\n",
    "#x_test_tfid= tfidf_transformer.transform(X_test)\n",
    "predicted=clf.predict(x_test_tf)\n",
    "predicted"
   ]
  },
  {
   "cell_type": "code",
   "execution_count": 16,
   "id": "41d9d6f2",
   "metadata": {},
   "outputs": [
    {
     "data": {
      "text/plain": [
       "array([[110,   8,   2,   2,  38,   0,   4],\n",
       "       [  0, 159,   0,   0,  11,   0,   1],\n",
       "       [  1,   6, 158,   3,  15,   0,   2],\n",
       "       [  2,   3,   0, 156,   2,   0,   0],\n",
       "       [  4,   5,   0,   3, 170,   0,   2],\n",
       "       [  1,   7,   4,   1,  14, 158,   2],\n",
       "       [  3,  10,   6,  13,   4,   0, 135]], dtype=int64)"
      ]
     },
     "execution_count": 16,
     "metadata": {},
     "output_type": "execute_result"
    }
   ],
   "source": [
    "from sklearn.metrics import accuracy_score,confusion_matrix\n",
    "confusion_matrixx=confusion_matrix(y_test,predicted)\n",
    "confusion_matrixx"
   ]
  },
  {
   "cell_type": "code",
   "execution_count": 17,
   "id": "dfafe026",
   "metadata": {},
   "outputs": [
    {
     "name": "stdout",
     "output_type": "stream",
     "text": [
      "0.8538775510204082\n"
     ]
    }
   ],
   "source": [
    "print(accuracy_score(y_test, predicted))"
   ]
  },
  {
   "cell_type": "code",
   "execution_count": 18,
   "id": "e9bf8c1c",
   "metadata": {
    "scrolled": true
   },
   "outputs": [
    {
     "name": "stdout",
     "output_type": "stream",
     "text": [
      "['spor ']\n"
     ]
    }
   ],
   "source": [
    "print(clf.predict(count_vect.transform([\"kupa turnuva\"])))"
   ]
  },
  {
   "cell_type": "code",
   "execution_count": 19,
   "id": "96d4d95c",
   "metadata": {},
   "outputs": [
    {
     "name": "stdout",
     "output_type": "stream",
     "text": [
      "['kultur ']\n"
     ]
    }
   ],
   "source": [
    "print(clf.predict(count_vect.transform([\"dün film izlemeye gittim\"])))"
   ]
  },
  {
   "cell_type": "code",
   "execution_count": 21,
   "id": "0713453d",
   "metadata": {},
   "outputs": [
    {
     "name": "stdout",
     "output_type": "stream",
     "text": [
      "['teknoloji ']\n"
     ]
    }
   ],
   "source": [
    "print(clf.predict(count_vect.transform([\" çin kendi navigasyon sistemini hizmete soktu çin in kuzey yıldızı beydou navigasyon sisteminin resmen hizmete girdiği bildirildi beydou navigasyon sistemi basın sözcüsü ran çıngçi kuzey yıldızı uydu serisinden sağlanan konumlandırma sisteminin çin den sonra asya_pasifik bölgesindeki kullanıcıların hizmetine açıldığını duyurdu çin in bu sistemle ulaşım meteoroloji ve haberleşme alanlarında hizmet sağlayacağı ve ülkeye yıllık 400 milyar yüen yaklaşık 115 milyar tl pazar geliri getireceği aktarıldı geçen yılın sonlarında bir senelik deneme sürecine başlayan navigasyon sisteminin bu yıl sonu itibariyle yörüngede 16 uydu ile desteklendiğini ve test sürecini başarıyla tamamlandığı kaydedildi 2020 de küresel konumlandırma hizmetine başlanacak abd nin gps rusya nın glonass ve ab nin galileo konumlandırma sisteminin ardından dünyanın en büyük dördüncü büyük kapsamlı navigasyon sistemi olan beydou nun dünyada en yaygın olarak kullanılan gps in kendi konumunu belirleme özelliğine ek olarak başkalarına kendi konumu hakkında bilgi verme ve diğer kullanıcıların konumunu gösterme hizmeti sunacağına dikkat çekiliyor beidou navigasyon uydu sistemi nin bds 2020 yılına kadar yörüngeye fırlatılacak yaklaşık 30 adet kuzey yıldızı serisi konumlandırma uydusu ile desteklenerek küresel çapta navigasyon hizmeti sunabilecek bir ağa sahip olması bekleniyor bds nin ülke adına büyük bir atılım olduğunu savunan uzmanlar bu sistem ile çin in konumlandırma alanında abd ye olan bağımlılığını kıracağı görüşünü paylaşıyor çin de gps halen yüzde 90 ın üzerinde bir pazar payına sahip ülke 2015 yılına kadar bds nin pazar payını yüzde 20 ye ve 2020 yılına kadar ise yüzde 80 e çıkartmayı hedefliyor 2020 yılına kadar uzayda 60 tonluk kalıcı bir istasyon kurma hedefi olan çin in abd ve rusya nın ardından uzayda istasyon kuran üçüncü ülke olması bekleniyor\"])))"
   ]
  },
  {
   "cell_type": "code",
   "execution_count": null,
   "id": "0da615f3",
   "metadata": {},
   "outputs": [],
   "source": []
  }
 ],
 "metadata": {
  "kernelspec": {
   "display_name": "Python 3",
   "language": "python",
   "name": "python3"
  },
  "language_info": {
   "codemirror_mode": {
    "name": "ipython",
    "version": 3
   },
   "file_extension": ".py",
   "mimetype": "text/x-python",
   "name": "python",
   "nbconvert_exporter": "python",
   "pygments_lexer": "ipython3",
   "version": "3.8.8"
  }
 },
 "nbformat": 4,
 "nbformat_minor": 5
}
